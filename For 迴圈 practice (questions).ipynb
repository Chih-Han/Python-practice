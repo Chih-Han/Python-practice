{
 "cells": [
  {
   "cell_type": "code",
   "execution_count": 8,
   "metadata": {},
   "outputs": [
    {
     "name": "stdout",
     "output_type": "stream",
     "text": [
      "檢測通過\n",
      "檢測失敗\n"
     ]
    }
   ],
   "source": [
    "#載入亂數套件\n",
    "import random as rand\n",
    "#設定執行5次\n",
    "for i in range (0,5,1):\n",
    "    #產生一個介於1~100之間的亂數\n",
    "    rand_number = rand.randint(1,100)\n",
    "    \n",
    "    #根據亂數決定檢測結果\n",
    "    if rand_number < 90:\n",
    "        print('檢測通過')\n",
    "    else:\n",
    "        print('檢測失敗')\n",
    "        break\n",
    "else:\n",
    "    #當沒有用break指令跳出迴圈時執行\n",
    "    print('通過品管檢測')"
   ]
  },
  {
   "cell_type": "code",
   "execution_count": 24,
   "metadata": {},
   "outputs": [
    {
     "name": "stdout",
     "output_type": "stream",
     "text": [
      "1\n",
      "22\n",
      "333\n",
      "4444\n",
      "55555\n",
      "666666\n",
      "7777777\n",
      "88888888\n",
      "999999999\n"
     ]
    }
   ],
   "source": [
    "for i in range (1,10,1):\n",
    "    for j in range (0,i,1):\n",
    "        print(i, end=''),\n",
    "    print()"
   ]
  },
  {
   "cell_type": "code",
   "execution_count": 30,
   "metadata": {},
   "outputs": [
    {
     "name": "stdout",
     "output_type": "stream",
     "text": [
      "1 2\n",
      "1 4\n",
      "1 6\n",
      "1 8\n",
      "2 2\n",
      "2 4\n",
      "2 6\n",
      "2 8\n",
      "3 2\n",
      "3 4\n",
      "3 6\n",
      "3 8\n",
      "4 2\n",
      "4 4\n",
      "4 6\n",
      "4 8\n",
      "5 2\n",
      "5 4\n",
      "5 6\n",
      "5 8\n",
      "6 2\n",
      "6 4\n",
      "6 6\n",
      "6 8\n",
      "7 2\n",
      "7 4\n",
      "7 6\n",
      "7 8\n",
      "8 2\n",
      "8 4\n",
      "8 6\n",
      "8 8\n",
      "9 2\n",
      "9 4\n",
      "9 6\n",
      "9 8\n"
     ]
    }
   ],
   "source": [
    "for i in range (1,10,1):\n",
    "    for j in range (2,9,2):\n",
    "        print(i,j)"
   ]
  }
 ],
 "metadata": {
  "kernelspec": {
   "display_name": "Python 3",
   "language": "python",
   "name": "python3"
  },
  "language_info": {
   "codemirror_mode": {
    "name": "ipython",
    "version": 3
   },
   "file_extension": ".py",
   "mimetype": "text/x-python",
   "name": "python",
   "nbconvert_exporter": "python",
   "pygments_lexer": "ipython3",
   "version": "3.6.5"
  }
 },
 "nbformat": 4,
 "nbformat_minor": 2
}
