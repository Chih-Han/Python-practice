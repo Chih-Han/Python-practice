{
 "cells": [
  {
   "cell_type": "code",
   "execution_count": 5,
   "metadata": {},
   "outputs": [
    {
     "name": "stdout",
     "output_type": "stream",
     "text": [
      "[1, 2, 3, 4, 5, 6, 7, 8, 9, 10]\n"
     ]
    }
   ],
   "source": [
    "num_list = []\n",
    "for i in range (1,11):    # range() 第三個參數沒有設定，預設值為1\n",
    "    num_list += [i]       # 也可以寫成 num_list.extend([i])\n",
    "print (num_list)"
   ]
  },
  {
   "cell_type": "code",
   "execution_count": 7,
   "metadata": {},
   "outputs": [
    {
     "name": "stdout",
     "output_type": "stream",
     "text": [
      "[1, 2, 3, 4, 5, 6, 7, 8, 9, 10]\n"
     ]
    }
   ],
   "source": [
    "num_list = []\n",
    "for i in range (1,11):    # range() 第三個參數沒有設定，預設值為1\n",
    "    num_list.extend([i])       # 也可以寫成 num_list.extend([i])\n",
    "print (num_list)"
   ]
  },
  {
   "cell_type": "code",
   "execution_count": 9,
   "metadata": {},
   "outputs": [
    {
     "name": "stdout",
     "output_type": "stream",
     "text": [
      "[1, 2, 3, 4, 5, 6, 7, 8, 9, 10]\n"
     ]
    }
   ],
   "source": [
    "num_list = [i for i in range (1,11)]  #一行寫法!!\n",
    "print (num_list)"
   ]
  },
  {
   "cell_type": "code",
   "execution_count": 11,
   "metadata": {},
   "outputs": [
    {
     "name": "stdout",
     "output_type": "stream",
     "text": [
      "[2, 4, 6, 8, 10]\n"
     ]
    }
   ],
   "source": [
    "num_list = [i for i in range (1,11) if i % 2 ==0]\n",
    "print (num_list)"
   ]
  },
  {
   "cell_type": "code",
   "execution_count": 17,
   "metadata": {},
   "outputs": [
    {
     "name": "stdout",
     "output_type": "stream",
     "text": [
      "[11, 12, 13, 14, 12, 13, 14, 15, 13, 14, 15, 16]\n"
     ]
    }
   ],
   "source": [
    "sum = [i+j for i in range(1,4) for j in range (10,14)]\n",
    "print(sum)"
   ]
  },
  {
   "cell_type": "code",
   "execution_count": 19,
   "metadata": {},
   "outputs": [
    {
     "name": "stdout",
     "output_type": "stream",
     "text": [
      "[11]\n",
      "[11, 12]\n",
      "[11, 12, 13]\n",
      "[11, 12, 13, 14]\n",
      "[11, 12, 13, 14, 12]\n",
      "[11, 12, 13, 14, 12, 13]\n",
      "[11, 12, 13, 14, 12, 13, 14]\n",
      "[11, 12, 13, 14, 12, 13, 14, 15]\n",
      "[11, 12, 13, 14, 12, 13, 14, 15, 13]\n",
      "[11, 12, 13, 14, 12, 13, 14, 15, 13, 14]\n",
      "[11, 12, 13, 14, 12, 13, 14, 15, 13, 14, 15]\n",
      "[11, 12, 13, 14, 12, 13, 14, 15, 13, 14, 15, 16]\n"
     ]
    }
   ],
   "source": [
    "sum = []\n",
    "for i in range (1,4):\n",
    "    for j in range (10,14):\n",
    "        sum += [i+j]\n",
    "        print(sum)"
   ]
  }
 ],
 "metadata": {
  "kernelspec": {
   "display_name": "Python 3",
   "language": "python",
   "name": "python3"
  },
  "language_info": {
   "codemirror_mode": {
    "name": "ipython",
    "version": 3
   },
   "file_extension": ".py",
   "mimetype": "text/x-python",
   "name": "python",
   "nbconvert_exporter": "python",
   "pygments_lexer": "ipython3",
   "version": "3.6.5"
  }
 },
 "nbformat": 4,
 "nbformat_minor": 2
}
